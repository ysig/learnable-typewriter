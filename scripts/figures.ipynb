{
 "cells": [
  {
   "cell_type": "markdown",
   "id": "398b3015",
   "metadata": {},
   "source": [
    "# Imports"
   ]
  },
  {
   "cell_type": "code",
   "execution_count": null,
   "id": "0dad2e64",
   "metadata": {},
   "outputs": [],
   "source": [
    "import os, sys\n",
    "from os.path import dirname, abspath, join\n",
    "from PIL import Image\n",
    "from IPython.display import display\n",
    "from collections import Counter\n",
    "from rich.progress import track"
   ]
  },
  {
   "cell_type": "code",
   "execution_count": null,
   "id": "f13300cf",
   "metadata": {},
   "outputs": [],
   "source": [
    "import numpy as np\n",
    "import torch\n",
    "from torchvision.utils import make_grid\n",
    "from torchvision.transforms import ToPILImage, ToTensor, Pad"
   ]
  },
  {
   "cell_type": "code",
   "execution_count": null,
   "id": "36f3094d",
   "metadata": {},
   "outputs": [],
   "source": [
    "PARENT = dirname(abspath(''))\n",
    "sys.path.append(PARENT)\n",
    "from learnable_typewriter.utils.loading import load_pretrained_model\n",
    "from learnable_typewriter.evaluate.qualitative.decompositor import Decompositor\n",
    "from learnable_typewriter.typewriter.inference import inference \n",
    "from learnable_typewriter.evaluate.quantitative.sprite_matching.metrics import error_rate \n",
    "from learnable_typewriter.data.dataloader import collate_fn_pad_to_max"
   ]
  },
  {
   "cell_type": "code",
   "execution_count": null,
   "id": "28e9b550",
   "metadata": {},
   "outputs": [],
   "source": [
    "%env CUDA_VISIBLE_DEVICES=\"\" # cpu-inference\n",
    "RUNS = abspath(join(PARENT, \"runs/\"))\n",
    "PLOT_DIR='plots/'"
   ]
  },
  {
   "cell_type": "markdown",
   "id": "c6654054",
   "metadata": {},
   "source": [
    "# Helper Functions"
   ]
  },
  {
   "cell_type": "code",
   "execution_count": null,
   "id": "fd24242e",
   "metadata": {},
   "outputs": [],
   "source": [
    "def plot(x, tag, ext='.png'):\n",
    "    if not isinstance(x, list):\n",
    "        x = [x]\n",
    "        tag = [tag]\n",
    "    else:\n",
    "        assert isinstance(tag, list)\n",
    "\n",
    "    for im, t in zip(x, tag):\n",
    "        display(im)\n",
    "        if PLOT_DIR is not None:\n",
    "            path = join(PLOT_DIR, t + ext)\n",
    "            os.makedirs(dirname(path), exist_ok=True)\n",
    "            im.save(path)"
   ]
  },
  {
   "cell_type": "code",
   "execution_count": null,
   "id": "b16a3a9a",
   "metadata": {},
   "outputs": [],
   "source": [
    "def usage_order(trainer):\n",
    "    if not hasattr(trainer, 'stats'):\n",
    "        stats = Counter()\n",
    "        loader = trainer.get_dataloader(split='train', batch_size=1, num_workers=trainer.n_workers, shuffle=True, remove_crop=True)[0]\n",
    "        for sample in track(loader, description='collecting stats'):\n",
    "            stats += Counter(e for p in inference(trainer.model, sample, aggregate=not trainer.unsupervised) for e in p)\n",
    "        trainer.stats = stats\n",
    "\n",
    "    stats = trainer.stats\n",
    "    def key(k):\n",
    "        return stats.get(k, 0)\n",
    "\n",
    "    return sorted(range(len(trainer.model.sprites)), key=key, reverse=True)\n",
    "\n",
    "def get_order(trainer, masks, which, order_type=None, ignore_sprites=None):\n",
    "    if order_type is None:       \n",
    "        order = list(range(len(trainer.model.sprites)))\n",
    "    else:\n",
    "        order = usage_order(trainer)\n",
    "        \n",
    "    if ignore_sprites is not None and ignore_sprites.startswith('top-'):\n",
    "        k = int(ignore_sprites.replace('top-', ''))\n",
    "        order = order[:k]\n",
    "        \n",
    "    if order_type == 'reorder':\n",
    "        order = sorted(order)\n",
    "\n",
    "    return order\n",
    "\n",
    "def plot_sprites(trainer, which, n_row=4, ignore_sprites=None, n_z=0, order_type=None):\n",
    "    trainer.model\n",
    "    masks = 1-trainer.model.sprites.masks\n",
    "    order = get_order(trainer, masks, which, ignore_sprites=ignore_sprites, order_type=order_type)\n",
    "    pad = n_z * [torch.ones_like(masks[0].unsqueeze(0))]\n",
    "    masks = torch.cat([masks[i].unsqueeze(0) for i in order] + pad, dim=0)\n",
    "    return ToPILImage()(make_grid(masks, nrow=n_row, padding_value=1, padding=2))\n",
    "\n",
    "def plot_colored_sprites(trainer, n_row=4, ignore_sprites=[], order_type=None, which='copiale', n_z=0):\n",
    "    masks = trainer.model.masks\n",
    "    colors = torch.Tensor(trainer.decompositor.colors)\n",
    "    colors = colors.unsqueeze(-1).unsqueeze(-1)  #size (K,3,1,1)\n",
    "    colors = 1 - colors.expand(masks.size()[0], 3, *masks.size()[2:]) #size (K,3,H_sprite,W_sprite)\n",
    "    masks = (1 - colors*masks.expand(-1, 3, -1, -1))\n",
    "    order = get_order(trainer, masks, which, ignore_sprites=ignore_sprites, order_type=order_type)\n",
    "\n",
    "    pad = n_z * [torch.ones_like(masks[0].unsqueeze(0))]\n",
    "    masks = torch.cat([masks[i].unsqueeze(0) for i in order] + pad, dim=0)\n",
    "    return ToPILImage()(make_grid(masks, nrow=n_row, padding_value=1, padding=2))\n",
    "\n",
    "def seg(trainer, test_idx):\n",
    "    topil = ToPILImage()\n",
    "    dataset = trainer.test_loader[0].dataset\n",
    "    x = collate_fn_pad_to_max([dataset[test_idx]], supervised=True)\n",
    "    obj = trainer.decompositor(x)\n",
    "    gt = topil(x['x'].cpu()[0])\n",
    "    rec = topil(obj['reconstruction'].cpu()[0])\n",
    "    sgm = topil(obj['segmentation'].cpu()[0])\n",
    "    return gt, rec, sgm\n",
    "\n",
    "def resize_w(img, w):\n",
    "    img = img.convert('RGB')\n",
    "    wpercent = (w/float(img.size[0]))\n",
    "    h = int((float(img.size[1])*float(wpercent)))\n",
    "    img = img.resize((w, h), Image.Resampling.LANCZOS)\n",
    "    return img\n",
    "\n",
    "def add_pad_h(img, pad):\n",
    "    pad = Pad([0, 0, 0, pad], fill=255, padding_mode='constant')\n",
    "    return pad(img)\n",
    "\n",
    "def crop(x, w=None):\n",
    "    if w is None:\n",
    "        return x\n",
    "    else:\n",
    "        width, height = x.size \n",
    "        return x.crop((w[0], 0, w[1], height))\n",
    "\n",
    "def assort(imgs):\n",
    "    totensor = ToTensor()\n",
    "    topil = ToPILImage()\n",
    "    grid = torch.cat([totensor(img) for img in imgs], dim=1)\n",
    "    return topil(grid)"
   ]
  },
  {
   "cell_type": "code",
   "execution_count": null,
   "id": "cb06ddb7",
   "metadata": {},
   "outputs": [],
   "source": [
    "def paper(trainer, which, test_idx=0, place=['gt', 'sgm', 'sprites'], pad_h=[3, 3, 0], n_row=4, ignore_sprites=None, crop_w=None, n_z=0, order_type=None):\n",
    "    sprites = plot_sprites(trainer, which=which, n_row=n_row, ignore_sprites=ignore_sprites, order_type=order_type, n_z=n_z)\n",
    "    gt, rec, sgm = seg(trainer, test_idx)\n",
    "    figs = {'sprites': sprites, 'gt': crop(gt, crop_w), 'rec': crop(rec, crop_w), 'sgm': crop(sgm, crop_w)}\n",
    "    native_w = figs['gt'].size[0]\n",
    "    figs['sprites'] = resize_w(figs['sprites'], native_w)\n",
    "    \n",
    "    return [figs[p] for p in place]\n",
    "\n",
    "def teaser(trainer, test_idx=0, place=['gt', 'rec', 'sgm'], pad_h=[3, 3, 0], n_row=4):\n",
    "    gt, rec, sgm = seg(trainer, test_idx)\n",
    "    figs = {'gt': gt, 'rec': rec, 'sgm': sgm}\n",
    "    return assort([add_pad_h(figs[p], h) for p, h in zip(place, pad_h)])"
   ]
  },
  {
   "cell_type": "markdown",
   "id": "427d0866",
   "metadata": {},
   "source": [
    "# Google"
   ]
  },
  {
   "cell_type": "code",
   "execution_count": null,
   "id": "5723ecc0",
   "metadata": {},
   "outputs": [],
   "source": [
    "import random\n",
    "trainer = {'supervised': load_pretrained_model(path=join(RUNS, 'google/supervised/'), device=None), 'unsupervised': load_pretrained_model(path=join(RUNS, 'google/unsupervised/'), device=None)}\n",
    "random.seed(24)\n",
    "random.shuffle(trainer['unsupervised'].decompositor.colors)"
   ]
  },
  {
   "cell_type": "markdown",
   "id": "3e4e04d2",
   "metadata": {},
   "source": [
    "### Paper"
   ]
  },
  {
   "cell_type": "code",
   "execution_count": null,
   "id": "234a1761",
   "metadata": {},
   "outputs": [],
   "source": [
    "plot(paper(trainer['supervised'], which='google', test_idx=5, n_row=10, ignore_sprites='top-60', order_type='reorder', crop_w=[0, 690]), tag=['paper/fig3la', 'paper/fig3lb', 'paper/fig3ra'])"
   ]
  },
  {
   "cell_type": "code",
   "execution_count": null,
   "id": "02b69c6e",
   "metadata": {},
   "outputs": [],
   "source": [
    "plot(paper(trainer['unsupervised'], which='google', test_idx=5, n_row=10, ignore_sprites=None, order_type='usage', crop_w=[0, 690]), tag=['paper/fig3la', 'paper/fig3lc', 'paper/fig3rb'])"
   ]
  },
  {
   "cell_type": "markdown",
   "id": "3e6ce54f",
   "metadata": {},
   "source": [
    "### Supmat"
   ]
  },
  {
   "cell_type": "code",
   "execution_count": null,
   "id": "784b9f06",
   "metadata": {},
   "outputs": [],
   "source": [
    "plot(plot_colored_sprites(trainer['supervised'], ignore_sprites=None, n_row=21, which='google', n_z=1), tag='supmat/fig1/supervised/sprites')"
   ]
  },
  {
   "cell_type": "code",
   "execution_count": null,
   "id": "5be9feb8",
   "metadata": {},
   "outputs": [],
   "source": [
    "plot(plot_colored_sprites(trainer['unsupervised'], ignore_sprites=None, n_row=20, which='google', order_type='eow'), tag='supmat/fig1/unsupervised/sprites')"
   ]
  },
  {
   "cell_type": "code",
   "execution_count": null,
   "id": "37d2e8a5",
   "metadata": {},
   "outputs": [],
   "source": [
    "np.random.seed(42)\n",
    "N = len(trainer['supervised'].test_loader[0].dataset)\n",
    "for idx, i in enumerate(np.random.choice(N, size=20, replace=False)):\n",
    "    for tag in ['supervised', 'unsupervised']:\n",
    "        plot(teaser(trainer[tag], i), tag=f'supmat/fig1/{tag}/{idx}')"
   ]
  },
  {
   "cell_type": "markdown",
   "id": "3a4e5edc",
   "metadata": {},
   "source": [
    "# Copiale"
   ]
  },
  {
   "cell_type": "code",
   "execution_count": null,
   "id": "f11cb978",
   "metadata": {},
   "outputs": [],
   "source": [
    "trainer = {'supervised': load_pretrained_model(path=join(RUNS, 'copiale/supervised/'), device=None), 'unsupervised': load_pretrained_model(path=join(RUNS, 'copiale/unsupervised/'), device=None)}"
   ]
  },
  {
   "cell_type": "markdown",
   "id": "8c56c5e5",
   "metadata": {},
   "source": [
    "### Paper"
   ]
  },
  {
   "cell_type": "code",
   "execution_count": null,
   "id": "5d32d428",
   "metadata": {},
   "outputs": [],
   "source": [
    "# [433, 1275]\n",
    "# 54\n",
    "plot(paper(trainer['supervised'], crop_w=[15, 585], which='copiale', ignore_sprites='top-' + str(9*12), test_idx=6, n_row=18, order_type='usage'), tag=['paper/fig4la', 'paper/fig4lb', 'paper/fig4ra'])"
   ]
  },
  {
   "cell_type": "code",
   "execution_count": null,
   "id": "49fe39ab",
   "metadata": {},
   "outputs": [],
   "source": [
    "plot(paper(trainer['unsupervised'], crop_w=[15, 585], which='copiale', test_idx=6, n_row=18, ignore_sprites='top-' + str(9*12), order_type='usage'), tag=['paper/fig4la', 'paper/fig4lc', 'paper/fig4rb'])"
   ]
  },
  {
   "cell_type": "markdown",
   "id": "a03428e8",
   "metadata": {},
   "source": [
    "### Supmat"
   ]
  },
  {
   "cell_type": "code",
   "execution_count": null,
   "id": "a7a194dd",
   "metadata": {},
   "outputs": [],
   "source": [
    "plot(plot_colored_sprites(trainer['supervised'], n_row=28, ignore_sprites=None, which='copiale', order_type='usage'), tag='supmat/fig2/supervised/sprites')"
   ]
  },
  {
   "cell_type": "code",
   "execution_count": null,
   "id": "b6cc13a3",
   "metadata": {},
   "outputs": [],
   "source": [
    "plot(plot_colored_sprites(trainer['unsupervised'], n_row=30, ignore_sprites=None, which='copiale', order_type='usage'), tag='supmat/fig2/unsupervised/sprites')"
   ]
  },
  {
   "cell_type": "code",
   "execution_count": null,
   "id": "fb89b718",
   "metadata": {},
   "outputs": [],
   "source": [
    "np.random.seed(42)\n",
    "N = len(trainer['supervised'].test_loader[0].dataset)\n",
    "for idx, i in enumerate(np.random.choice(N, size=20, replace=False)):\n",
    "    for tag in ['supervised', 'unsupervised']:\n",
    "        plot(teaser(trainer[tag], i), tag=f'supmat/fig2/{tag}/{idx}')"
   ]
  }
 ],
 "metadata": {
  "kernelspec": {
   "display_name": "Python 3 (ipykernel)",
   "language": "python",
   "name": "python3"
  },
  "language_info": {
   "codemirror_mode": {
    "name": "ipython",
    "version": 3
   },
   "file_extension": ".py",
   "mimetype": "text/x-python",
   "name": "python",
   "nbconvert_exporter": "python",
   "pygments_lexer": "ipython3",
   "version": "3.8.5"
  },
  "vscode": {
   "interpreter": {
    "hash": "7c964151bcf27eca30387af5242e2f715016e76c3ddf1a2a50f139d10971ec17"
   }
  }
 },
 "nbformat": 4,
 "nbformat_minor": 5
}
